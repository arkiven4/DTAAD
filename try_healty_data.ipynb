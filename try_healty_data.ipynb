{
 "cells": [
  {
   "cell_type": "code",
   "execution_count": 1,
   "metadata": {},
   "outputs": [],
   "source": [
    "import pickle\n",
    "import os\n",
    "import pandas as pd\n",
    "from tqdm import tqdm\n",
    "from src.models import *\n",
    "from src.constants import *\n",
    "from src.plotting import *\n",
    "from src.pot import *\n",
    "from src.utils import *\n",
    "from src.diagnosis import *\n",
    "from torch.utils.data import Dataset, DataLoader, TensorDataset\n",
    "import torch.nn as nn\n",
    "from time import time\n",
    "from pprint import pprint\n",
    "from datetime import datetime, timedelta\n",
    "from preprocess import normalize3\n",
    "from main import  convert_to_windows, load_dataset, load_model, backprop\n",
    "import matplotlib.pyplot as plt\n",
    "\n",
    "%matplotlib inline\n",
    "\n",
    "plt.rcParams[\"text.usetex\"] = False\n",
    "plt.rcParams['figure.figsize'] = 8, 5"
   ]
  },
  {
   "cell_type": "code",
   "execution_count": 2,
   "metadata": {},
   "outputs": [],
   "source": [
    "df_data_withtime = pd.read_pickle(\"/run/media/fourier/Data2/Pras/Vale/time-series-autoencoder/my_data_5thn_olah.pickle\")\n",
    "mask = (df_data_withtime['TimeStamp'] >= '2020-01-01 00:00:00')\n",
    "df_data_withtime = df_data_withtime.loc[mask]\n",
    "\n",
    "for column_name in df_data_withtime.columns:\n",
    "    if column_name != 'Load_Type' and column_name != 'TimeStamp':\n",
    "        df_data_withtime[column_name] = pd.to_numeric(df_data_withtime[column_name], downcast='float')\n",
    "        \n",
    "df_anomaly = pd.read_excel(\"/run/media/fourier/Data2/Pras/Vale/time-series-autoencoder/shutdown_list.xlsx\", 'Sheet2')\n",
    "df_anomaly['Start Time'] = pd.to_datetime(df_anomaly['Start Time'])\n",
    "df_anomaly['End Time'] = pd.to_datetime(df_anomaly['End Time'])\n",
    "df_anomaly_unplaned = df_anomaly.copy()\n",
    "\n",
    "mask = (df_anomaly_unplaned['Interal/External'] == 'Internal') & (df_anomaly_unplaned['Shutdown Type'] == 'Unplanned') & (df_anomaly_unplaned['Start Time'] >= '2020-01-01 00:00:00')\n",
    "df_anomaly_unplaned = df_anomaly_unplaned.loc[mask]\n",
    "df_anomaly_unplaned = df_anomaly_unplaned.reset_index(drop=True)\n",
    "df_anomaly_unplaned\n",
    "\n",
    "dataset_folder = 'data/Custom2'\n",
    "df_train = pd.read_csv(os.path.join(dataset_folder, 'train.csv'))\n",
    "df_test = pd.read_csv(os.path.join(dataset_folder, 'test.csv'))\n",
    "df_train, df_test = df_train.values[:, 1:], df_test.values[:, 1:]\n",
    "_, min_a, max_a = normalize3(np.concatenate((df_train, df_test), axis=0))"
   ]
  },
  {
   "cell_type": "code",
   "execution_count": 3,
   "metadata": {},
   "outputs": [],
   "source": [
    "def convert_to_windows(data, model):\n",
    "    windows = []\n",
    "    w_size = model.n_window\n",
    "    for i, g in enumerate(data):\n",
    "        if i >= w_size:\n",
    "            w = data[i - w_size:i]  # cut\n",
    "        else:\n",
    "            w = torch.cat([data[0].repeat(w_size - i, 1), data[0:i]])  # pad\n",
    "        windows.append(w if 'DTAAD' in args.model or 'Attention' in args.model or 'TranAD' in args.model else w.view(-1))\n",
    "    return torch.stack(windows)\n",
    "\n",
    "def load_model(modelname, dims):\n",
    "    import src.models\n",
    "    model_class = getattr(src.models, modelname)\n",
    "    model = model_class(dims).double()\n",
    "    optimizer = torch.optim.AdamW(model.parameters(), lr=model.lr, weight_decay=1e-5)\n",
    "    scheduler = torch.optim.lr_scheduler.StepLR(optimizer, 5, 0.9)\n",
    "    fname = f'checkpoints/{args.model}_{args.dataset}/model.ckpt'\n",
    "    print(fname)\n",
    "    if os.path.exists(fname) and (not args.retrain or args.test):\n",
    "        print(f\"{color.GREEN}Loading pre-trained model: {model.name}{color.ENDC}\")\n",
    "        checkpoint = torch.load(fname)\n",
    "        model.load_state_dict(checkpoint['model_state_dict'])\n",
    "        optimizer.load_state_dict(checkpoint['optimizer_state_dict'])\n",
    "        scheduler.load_state_dict(checkpoint['scheduler_state_dict'])\n",
    "        epoch = checkpoint['epoch']\n",
    "        accuracy_list = checkpoint['accuracy_list']\n",
    "    else:\n",
    "        print(f\"{color.GREEN}Creating new model: {model.name}{color.ENDC}\")\n",
    "        epoch = -1\n",
    "        accuracy_list = []\n",
    "    return model, optimizer, scheduler, epoch, accuracy_list\n",
    "\n",
    "def load_dataset(dataset):\n",
    "    folder = os.path.join(output_folder, dataset)\n",
    "    if not os.path.exists(folder):\n",
    "        raise Exception('Processed Data not found.')\n",
    "    loader = []\n",
    "    for file in ['train', 'test', 'labels']:\n",
    "        if dataset == 'SMD': file = 'machine-1-1_' + file\n",
    "        if dataset == 'SMAP': file = 'P-1_' + file\n",
    "        if dataset == 'MSL': file = 'C-1_' + file\n",
    "        if dataset == 'UCR': file = '136_' + file\n",
    "        if dataset == 'NAB': file = 'ec2_request_latency_system_failure_' + file\n",
    "        loader.append(np.load(os.path.join(folder, f'{file}.npy')))\n",
    "    # loader = [i[:, debug:debug+1] for i in loader]\n",
    "    if args.less: loader[0] = cut_array(0.2, loader[0])\n",
    "    train_loader = DataLoader(loader[0], batch_size=loader[0].shape[0])\n",
    "    test_loader = DataLoader(loader[1], batch_size=loader[1].shape[0])\n",
    "    labels = loader[2]\n",
    "    return train_loader, test_loader, labels"
   ]
  },
  {
   "cell_type": "code",
   "execution_count": 4,
   "metadata": {},
   "outputs": [
    {
     "name": "stdout",
     "output_type": "stream",
     "text": [
      "checkpoints/Attention_CustomN/model.ckpt\n",
      "\u001b[92mLoading pre-trained model: Attention\u001b[0m\n"
     ]
    },
    {
     "name": "stderr",
     "output_type": "stream",
     "text": [
      "/tmp/ipykernel_2873906/936734094.py:22: FutureWarning: You are using `torch.load` with `weights_only=False` (the current default value), which uses the default pickle module implicitly. It is possible to construct malicious pickle data which will execute arbitrary code during unpickling (See https://github.com/pytorch/pytorch/blob/main/SECURITY.md#untrusted-models for more details). In a future release, the default value for `weights_only` will be flipped to `True`. This limits the functions that could be executed during unpickling. Arbitrary objects will no longer be allowed to be loaded via this mode unless they are explicitly allowlisted by the user via `torch.serialization.add_safe_globals`. We recommend you start setting `weights_only=True` for any use case where you don't have full control of the loaded file. Please open an issue on GitHub for any issues related to this experimental feature.\n",
      "  checkpoint = torch.load(fname)\n"
     ]
    }
   ],
   "source": [
    "train_loader, test_loader, labels = load_dataset(\"CustomN\")\n",
    "trainD, testD = next(iter(train_loader)), next(iter(test_loader))\n",
    "trainO, testO = trainD, testD\n",
    "model, optimizer, scheduler, epoch, accuracy_list = load_model('Attention', trainO.shape[1])\n",
    "\n",
    "if model.name in ['Attention', 'DAGMM', 'USAD', 'MSCRED', 'CAE_M', 'GDN', 'MTAD_GAT',\n",
    "                    'MAD_GAN', 'TranAD'] or 'DTAAD' in model.name:\n",
    "    trainD, testD = convert_to_windows(trainD, model), convert_to_windows(testD, model)"
   ]
  },
  {
   "cell_type": "code",
   "execution_count": 5,
   "metadata": {},
   "outputs": [
    {
     "data": {
      "text/plain": [
       "5"
      ]
     },
     "execution_count": 5,
     "metadata": {},
     "output_type": "execute_result"
    }
   ],
   "source": [
    "model.n_window"
   ]
  },
  {
   "cell_type": "code",
   "execution_count": 6,
   "metadata": {},
   "outputs": [
    {
     "name": "stdout",
     "output_type": "stream",
     "text": [
      "0\n",
      "torch.Size([5, 29])\n"
     ]
    }
   ],
   "source": [
    "for i, g in enumerate(trainD):\n",
    "    print(i)\n",
    "    print(g.shape)\n",
    "    break"
   ]
  },
  {
   "cell_type": "code",
   "execution_count": 7,
   "metadata": {},
   "outputs": [
    {
     "data": {
      "text/plain": [
       "29.0"
      ]
     },
     "execution_count": 7,
     "metadata": {},
     "output_type": "execute_result"
    }
   ],
   "source": [
    "841 / 29"
   ]
  }
 ],
 "metadata": {
  "kernelspec": {
   "display_name": ".env",
   "language": "python",
   "name": "python3"
  },
  "language_info": {
   "codemirror_mode": {
    "name": "ipython",
    "version": 3
   },
   "file_extension": ".py",
   "mimetype": "text/x-python",
   "name": "python",
   "nbconvert_exporter": "python",
   "pygments_lexer": "ipython3",
   "version": "3.8.19"
  }
 },
 "nbformat": 4,
 "nbformat_minor": 2
}
