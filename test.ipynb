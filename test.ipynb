{
 "cells": [
  {
   "cell_type": "code",
   "execution_count": 2,
   "metadata": {},
   "outputs": [],
   "source": [
    "import pandas as pd\n",
    "import numpy as np\n",
    "import os"
   ]
  },
  {
   "cell_type": "code",
   "execution_count": 2,
   "metadata": {},
   "outputs": [],
   "source": [
    "df = pd.read_csv(\"/run/media/fourier/Data2/Pras/Vale/TN_Forecast/fredformer/dataset/pi.csv\")"
   ]
  },
  {
   "cell_type": "code",
   "execution_count": 3,
   "metadata": {},
   "outputs": [],
   "source": [
    "def load_and_save(category, filename, dataset, dataset_folder):\n",
    "    temp = np.genfromtxt(os.path.join(dataset_folder, category, filename),\n",
    "                         dtype=np.float64,\n",
    "                         delimiter=',')\n",
    "    print(dataset, category, filename, temp.shape)\n",
    "    np.save(os.path.join(output_folder, f\"SMD/{dataset}_{category}.npy\"), temp)\n",
    "    return temp.shape\n",
    "\n",
    "\n",
    "def load_and_save2(category, filename, dataset, dataset_folder, shape):\n",
    "    temp = np.zeros(shape)\n",
    "    with open(os.path.join(dataset_folder, 'interpretation_label', filename), \"r\") as f:\n",
    "        ls = f.readlines()\n",
    "    for line in ls:\n",
    "        pos, values = line.split(':')[0], line.split(':')[1].split(',')\n",
    "        start, end, indx = int(pos.split('-')[0]), int(pos.split('-')[1]), [int(i) - 1 for i in values]\n",
    "        temp[start - 1:end - 1, indx] = 1\n",
    "    print(dataset, category, filename, temp.shape)\n",
    "    np.save(os.path.join(output_folder, f\"SMD/{dataset}_{category}.npy\"), temp)\n",
    "\n",
    "\n",
    "def wgn(a, snr):\n",
    "    min_a, max_a = np.min(a, axis=0), np.max(a, axis=0)\n",
    "    x = (a - min_a) / (max_a - min_a + 0.0001)\n",
    "    batch_size, len_x = x.shape\n",
    "    Ps = np.sum(np.power(x, 2)) / len_x\n",
    "    Pn = Ps / (np.power(10, snr / 10))\n",
    "    noise = np.random.randn(len_x) * np.sqrt(Pn)\n",
    "    return noise/100\n",
    "\n",
    "\n",
    "def normalize(a):\n",
    "    a = a / np.maximum(np.absolute(a.max(axis=0)), np.absolute(a.min(axis=0)))\n",
    "    return a / 2 + 0.5\n",
    "\n",
    "\n",
    "def normalize2(a, min_a=None, max_a=None):\n",
    "    if min_a is None: min_a, max_a = min(a), max(a)\n",
    "    return (a - min_a) / (max_a - min_a) + wgn(a, 50), min_a, max_a\n",
    "\n",
    "\n",
    "def normalize3(a, min_a=None, max_a=None):\n",
    "    if min_a is None: min_a, max_a = np.min(a, axis=0), np.max(a, axis=0)\n",
    "    return ((a - min_a) / (max_a - min_a + 0.0001)), min_a, max_a #  + wgn(a, 50)\n",
    "\n",
    "\n",
    "def convertNumpy(df):\n",
    "    x = df[df.columns[3:]].values[::10, :]\n",
    "    return (x - x.min(0)) / (x.ptp(0) + 1e-4)"
   ]
  },
  {
   "cell_type": "code",
   "execution_count": 5,
   "metadata": {},
   "outputs": [],
   "source": [
    "dataset_folder = 'data/CustomAWGN30ES15'\n",
    "df_train = pd.read_csv(os.path.join(dataset_folder, 'train.csv'))\n",
    "df_test = pd.read_csv(os.path.join(dataset_folder, 'test.csv'))\n",
    "df_train, df_test = df_train.values[:, 1:], df_test.values[:, 1:]\n",
    "_, min_a, max_a = normalize3(np.concatenate((df_train, df_test), axis=0))\n",
    "train, _, _ = normalize3(df_train, min_a, max_a)\n",
    "test, _, _ = normalize3(df_test, min_a, max_a)\n",
    "labels = pd.read_csv(os.path.join(dataset_folder, 'test_label.csv'))\n",
    "labels = labels.values[:, 1:]\n",
    "\n",
    "folder = os.path.join(\"processed\", \"CustomAWGN30ES15\")\n",
    "os.makedirs(folder, exist_ok=True)\n",
    "\n",
    "for file in ['train', 'test', 'labels']:\n",
    "    np.save(os.path.join(folder, f'{file}.npy'), eval(file).astype('float64'))"
   ]
  },
  {
   "cell_type": "code",
   "execution_count": 15,
   "metadata": {},
   "outputs": [
    {
     "data": {
      "text/plain": [
       "(1196841, 30)"
      ]
     },
     "execution_count": 15,
     "metadata": {},
     "output_type": "execute_result"
    }
   ],
   "source": [
    "train.shape"
   ]
  }
 ],
 "metadata": {
  "kernelspec": {
   "display_name": ".env",
   "language": "python",
   "name": "python3"
  },
  "language_info": {
   "codemirror_mode": {
    "name": "ipython",
    "version": 3
   },
   "file_extension": ".py",
   "mimetype": "text/x-python",
   "name": "python",
   "nbconvert_exporter": "python",
   "pygments_lexer": "ipython3",
   "version": "3.8.19"
  }
 },
 "nbformat": 4,
 "nbformat_minor": 2
}
